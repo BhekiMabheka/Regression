{
  "nbformat": 4,
  "nbformat_minor": 0,
  "metadata": {
    "colab": {
      "name": "Regression.ipynb",
      "provenance": [],
      "private_outputs": true,
      "authorship_tag": "ABX9TyOE+RWV11iBQbTzAQQ1kjZN",
      "include_colab_link": true
    },
    "kernelspec": {
      "name": "python3",
      "display_name": "Python 3"
    },
    "accelerator": "GPU"
  },
  "cells": [
    {
      "cell_type": "markdown",
      "metadata": {
        "id": "view-in-github",
        "colab_type": "text"
      },
      "source": [
        "<a href=\"https://colab.research.google.com/github/BhekiMabheka/Regression/blob/master/Regression.ipynb\" target=\"_parent\"><img src=\"https://colab.research.google.com/assets/colab-badge.svg\" alt=\"Open In Colab\"/></a>"
      ]
    },
    {
      "cell_type": "markdown",
      "metadata": {
        "id": "q5DXWmVrDZFh",
        "colab_type": "text"
      },
      "source": [
        "**Objective**:\n",
        "\n",
        "- Explore the concept of Multi-collinearity\n",
        "- Run the mutliple regression\n",
        "- Calculate the VIF Factors\n",
        "- Inspect the factors for each predictor variable, if the VIF is between 5-10, multicolinearity is likely present and you should consider dropping the variable."
      ]
    },
    {
      "cell_type": "code",
      "metadata": {
        "id": "IpY-XOFmDnDp",
        "colab_type": "code",
        "colab": {}
      },
      "source": [
        "import pandas as pd\n",
        "import seaborn as sns\n",
        "import numpy as np\n",
        "import matplotlib.pyplot as plt\n",
        "import warnings\n",
        "warnings.filterwarnings(\"ignore\")\n",
        "\n",
        "#from statsmodels.api as sm\n",
        "from statsmodels.stats.outliers_influence import variance_inflation_factor"
      ],
      "execution_count": 0,
      "outputs": []
    },
    {
      "cell_type": "code",
      "metadata": {
        "id": "fl-ZcjpQILDN",
        "colab_type": "code",
        "colab": {}
      },
      "source": [
        "df = pd.read_csv(\"https://raw.githubusercontent.com/BhekiMabheka/Regression/master/train.csv\")\n",
        "df.head()"
      ],
      "execution_count": 0,
      "outputs": []
    },
    {
      "cell_type": "code",
      "metadata": {
        "id": "GtKXMR7xIWyZ",
        "colab_type": "code",
        "colab": {}
      },
      "source": [
        "## Select only the numneric features\n",
        "numeric_feat = df.select_dtypes(include = np.number).drop(axis = 1, columns = [\"Id\", \"LotFrontage\", \"GarageYrBlt\", \"MasVnrArea\"])\n",
        "numeric_feat.head()"
      ],
      "execution_count": 0,
      "outputs": []
    },
    {
      "cell_type": "code",
      "metadata": {
        "id": "yQihV6C-FdKS",
        "colab_type": "code",
        "colab": {}
      },
      "source": [
        "vif = pd.DataFrame()\n",
        "vif[\"VIF_Factor\"] = [variance_inflation_factor(numeric_feat.values, i) for i in range(numeric_feat.shape[1])]\n",
        "vif[\"features\"] = numeric_feat.columns\n",
        "\n",
        "vif.sort_values(by = [\"VIF_Factor\"], ascending = False).head(2)"
      ],
      "execution_count": 0,
      "outputs": []
    },
    {
      "cell_type": "code",
      "metadata": {
        "id": "NSTvXNPKLWQp",
        "colab_type": "code",
        "colab": {}
      },
      "source": [
        "vif.round(1)"
      ],
      "execution_count": 0,
      "outputs": []
    },
    {
      "cell_type": "code",
      "metadata": {
        "id": "vnfRAthVs-fx",
        "colab_type": "code",
        "colab": {}
      },
      "source": [
        ""
      ],
      "execution_count": 0,
      "outputs": []
    }
  ]
}