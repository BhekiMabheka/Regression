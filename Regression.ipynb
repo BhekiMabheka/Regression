{
  "nbformat": 4,
  "nbformat_minor": 0,
  "metadata": {
    "colab": {
      "name": "Regression.ipynb",
      "provenance": [],
      "private_outputs": true,
      "authorship_tag": "ABX9TyOqc1lq0APVyP1jjMYZokZv"
    },
    "kernelspec": {
      "name": "python3",
      "display_name": "Python 3"
    },
    "accelerator": "GPU"
  },
  "cells": [
    {
      "cell_type": "markdown",
      "metadata": {
        "id": "q5DXWmVrDZFh",
        "colab_type": "text"
      },
      "source": [
        "**Objective**:\n",
        "\n",
        "To explore the concept of Multi-collinearity"
      ]
    },
    {
      "cell_type": "code",
      "metadata": {
        "id": "IpY-XOFmDnDp",
        "colab_type": "code",
        "colab": {}
      },
      "source": [
        "import pandas as pd\n",
        "import seaborn as sns"
      ],
      "execution_count": 0,
      "outputs": []
    },
    {
      "cell_type": "code",
      "metadata": {
        "id": "yQihV6C-FdKS",
        "colab_type": "code",
        "colab": {}
      },
      "source": [
        ""
      ],
      "execution_count": 0,
      "outputs": []
    }
  ]
}