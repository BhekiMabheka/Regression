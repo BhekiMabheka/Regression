{
  "nbformat": 4,
  "nbformat_minor": 0,
  "metadata": {
    "colab": {
      "name": "Regression.ipynb",
      "provenance": [],
      "private_outputs": true,
      "authorship_tag": "ABX9TyOF7VuByaj3LZkun7ERCVh8",
      "include_colab_link": true
    },
    "kernelspec": {
      "name": "python3",
      "display_name": "Python 3"
    },
    "accelerator": "GPU"
  },
  "cells": [
    {
      "cell_type": "markdown",
      "metadata": {
        "id": "view-in-github",
        "colab_type": "text"
      },
      "source": [
        "<a href=\"https://colab.research.google.com/github/BhekiMabheka/Regression/blob/master/Regression.ipynb\" target=\"_parent\"><img src=\"https://colab.research.google.com/assets/colab-badge.svg\" alt=\"Open In Colab\"/></a>"
      ]
    },
    {
      "cell_type": "markdown",
      "metadata": {
        "id": "q5DXWmVrDZFh",
        "colab_type": "text"
      },
      "source": [
        "**Objective**:\n",
        "\n",
        "- Explore the concept of Multi-collinearity\n",
        "- Run the mutliple regression\n",
        "- Calculate the VIF Factors\n",
        "- Inspect the factors for each predictor variable, if the VIF is between 5-10, multicolinearity is likely present and you should consider dropping the variable.\n",
        "\n",
        "## Assumptions in Regression\n",
        "\n",
        "**Regression** is a parametric approach. `Parametric` means it makes assumptions about data for the purpose of analysis. Due to its parametric side, regression is restrictive in nature. It fails to deliver good results with data sets which doesn’t fulfill its assumptions. Therefore, for a successful regression analysis, it’s essential to validate these assumptions.\n",
        "\n",
        "### Some mportant assumptions in regression analysis:###\n",
        "\n",
        "1. There should be a linear and additive relationship between dependent  (response) variable and independent (predictor) variable(s). A linear relationship suggests that a change in response Y due to one unit change in X¹ is constant, regardless of the value of X¹. An additive relationship suggests that the effect of X¹ on Y is independent of other variables.\n",
        "2. There should be no correlation between the residual (error) terms. Absence of this phenomenon is known as Autocorrelation.\n",
        "3. The independent variables should not be correlated. Absence of this phenomenon is known as multicollinearity.\n",
        "4. The error terms must have constant variance. This phenomenon is known as homoskedasticity. The presence of non-constant variance is referred to heteroskedasticity.\n",
        "5. The error terms must be normally distributed.\n"
      ]
    },
    {
      "cell_type": "code",
      "metadata": {
        "id": "IpY-XOFmDnDp",
        "colab_type": "code",
        "colab": {}
      },
      "source": [
        "import pandas as pd\n",
        "import seaborn as sns\n",
        "import numpy as np\n",
        "import matplotlib.pyplot as plt\n",
        "import warnings\n",
        "warnings.filterwarnings(\"ignore\")\n",
        "\n",
        "from statsmodels.stats.outliers_influence import variance_inflation_factor"
      ],
      "execution_count": 0,
      "outputs": []
    },
    {
      "cell_type": "code",
      "metadata": {
        "id": "fl-ZcjpQILDN",
        "colab_type": "code",
        "colab": {}
      },
      "source": [
        "df = pd.read_csv(\"https://raw.githubusercontent.com/BhekiMabheka/Regression/master/train.csv\")\n",
        "df.head()"
      ],
      "execution_count": 0,
      "outputs": []
    },
    {
      "cell_type": "code",
      "metadata": {
        "id": "GtKXMR7xIWyZ",
        "colab_type": "code",
        "colab": {}
      },
      "source": [
        "## Select only the numneric features\n",
        "numeric_feat = df.select_dtypes(include = np.number).drop(axis = 1, columns = [\"Id\", \"LotFrontage\", \"GarageYrBlt\", \"MasVnrArea\"])\n",
        "numeric_feat.head()"
      ],
      "execution_count": 0,
      "outputs": []
    },
    {
      "cell_type": "code",
      "metadata": {
        "id": "yQihV6C-FdKS",
        "colab_type": "code",
        "colab": {}
      },
      "source": [
        "vif = pd.DataFrame()\n",
        "vif[\"VIF_Factor\"] = [variance_inflation_factor(numeric_feat.values, i) for i in range(numeric_feat.shape[1])]\n",
        "vif[\"features\"] = numeric_feat.columns\n",
        "\n",
        "vif.sort_values(by = [\"VIF_Factor\"], ascending = False).head(2)"
      ],
      "execution_count": 0,
      "outputs": []
    },
    {
      "cell_type": "code",
      "metadata": {
        "id": "NSTvXNPKLWQp",
        "colab_type": "code",
        "colab": {}
      },
      "source": [
        "vif.round(1)"
      ],
      "execution_count": 0,
      "outputs": []
    },
    {
      "cell_type": "code",
      "metadata": {
        "id": "vnfRAthVs-fx",
        "colab_type": "code",
        "colab": {}
      },
      "source": [
        ""
      ],
      "execution_count": 0,
      "outputs": []
    }
  ]
}